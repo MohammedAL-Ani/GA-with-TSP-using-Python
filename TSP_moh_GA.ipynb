{
  "cells": [
    {
      "cell_type": "markdown",
      "metadata": {
        "id": "view-in-github",
        "colab_type": "text"
      },
      "source": [
        "<a href=\"https://colab.research.google.com/github/MohammedAL-Ani/GA-with-TSP-using-Python/blob/main/TSP_moh_GA.ipynb\" target=\"_parent\"><img src=\"https://colab.research.google.com/assets/colab-badge.svg\" alt=\"Open In Colab\"/></a>"
      ]
    },
    {
      "cell_type": "markdown",
      "metadata": {
        "id": "6D9CGEdowgVc"
      },
      "source": [
        "# TSP moh-GA "
      ]
    },
    {
      "cell_type": "markdown",
      "metadata": {
        "id": "1QWJ2QlVwgVi"
      },
      "source": [
        "## GA Pseudocode\n",
        "```\n",
        "produce an initial population of individuals\n",
        "evaluate the fitness of all individuals\n",
        "while termination condition not met do\n",
        "\tselect fitter individuals for reproduction\n",
        "\trecombine between individuals\n",
        "\tmutate individuals\n",
        "\tevaluate the fitness of the modified individuals\n",
        "\tgenerate a new population\n",
        "End while                                    \n",
        "```"
      ]
    },
    {
      "cell_type": "markdown",
      "metadata": {
        "id": "gKsQibvGwgVj"
      },
      "source": [
        "## Main Functions"
      ]
    },
    {
      "cell_type": "code",
      "execution_count": 1,
      "metadata": {
        "id": "7-hJz036wgVk"
      },
      "outputs": [],
      "source": [
        "# coding: utf-8\n",
        "import sys\n",
        "import time\n",
        "import math\n",
        "import random\n",
        "\n",
        "\n",
        "def selctFitterIndividuals(chromo, num_parents):\n",
        "    chromObjects =[]\n",
        "    candidateParents = []\n",
        "    TOTAL_FITNESS = 0\n",
        "    for c in chromo:\n",
        "        chromObjects.append((c,cost(c,DIC)))\n",
        "        TOTAL_FITNESS += cost(c,DIC)\n",
        "    \n",
        "    chromObjects.sort(key = lambda x:x[1],reverse=True) # in descending order 4, 3, 2, 1 etc.\n",
        "    \n",
        "    #divide chromObjects into solution, fitness, and index\n",
        "    index = []\n",
        "    solution = []\n",
        "    fitness = []\n",
        "    PF =0\n",
        "    probabilityFitness = []\n",
        "    for i,c in enumerate(chromObjects):\n",
        "        index.append(i) \n",
        "        solution.append(c[0])        \n",
        "        fitness.append(c[1])\n",
        "        PF += (TOTAL_FITNESS/c[1])\n",
        "        \n",
        "    for i,c in enumerate (chromObjects):       \n",
        "        probabilityFitness.append((TOTAL_FITNESS/c[1])/PF)\n",
        "            \n",
        "    # Selecting the suitable parent usin Fitness Proportionate Selection\n",
        "    # Implemented by Roulette Wheel Selection NOT Stochastic Universal Sampling (SUS)\n",
        "    for k in range (num_parents): # k is the number of parents we want to select\n",
        "        # Generate Random Number        \n",
        "        r_num = random.random()        \n",
        "        i = 0\n",
        "        sub_fitness = probabilityFitness[i]        \n",
        "        chosenIndiv = solution[i]\n",
        "        while (sub_fitness <= r_num ):\n",
        "            sub_fitness += probabilityFitness[i]\n",
        "            chosenIndiv = solution[i]\n",
        "            i +=1        \n",
        "        candidateParents.append(chosenIndiv)\n",
        "    return candidateParents \n",
        "\n",
        "def mutation(c,rate_level): #rate_level : MOUTATION_LEVE\n",
        "    r = random.random()\n",
        "    # do mutation if r < mutation probability\n",
        "    if(r <= rate_level): \n",
        "        c = swap(1, c)        \n",
        "        return c\n",
        "    return c\n",
        "\n",
        "# check if a solution is feasible or not \n",
        "def isFeasible(chromo,num_cities):\n",
        "    replicate = findRepeatedValues(chromo,num_cities)\n",
        "    if len(replicate) > 0:\n",
        "        return False\n",
        "    else:\n",
        "        return True\n",
        "    \n",
        "# To make an infeasible solution feasible\n",
        "def repair(c1, index, misv):    \n",
        "    c = copy.copy(c1)\n",
        "    j = 0\n",
        "    for i in index:\n",
        "        c[i] = misv[j]\n",
        "        j+=1\n",
        "    return c\n",
        "# To find missing values in a path , to make it a feasible solution\n",
        "def findMissingValues(parent, c):    \n",
        "    misv = copy.deepcopy(parent)\n",
        "    for i in parent:\n",
        "        if i in c : \n",
        "            misv.remove(i)\n",
        "    return misv\n",
        "    \n",
        "# To find the repeated items (the values itself)\n",
        "def findRepeatedValues(chromo,num_cities):\n",
        "    # Find duplicate values\n",
        "    rep = []\n",
        "    c1d = dict(Counter(chromo))\n",
        "    for i in range(num_cities):\n",
        "        key = i+1\n",
        "        try:\n",
        "            if(c1d[key] == 2):\n",
        "                rep.append(key)\n",
        "        except:\n",
        "            continue\n",
        "    return rep\n",
        "\n",
        "# To find index of the repeated items in the chromosome = the index of the second value\n",
        "def findIndexOfRepeatedValues(chromo_repeat_list,chromo):\n",
        "    # Find duplicate values (index)\n",
        "    indexs = []\n",
        "    for target in chromo_repeat_list:\n",
        "        for j in range(len(chromo),0,-1):\n",
        "            jIndex = j -1\n",
        "            if chromo[jIndex] == target:\n",
        "                indexs.append(jIndex)\n",
        "                break\n",
        "    return indexs\n",
        "\n",
        "def ReadDic(dicPath = './dataset.txt'):\n",
        "    dic={}\n",
        "    with open(dicPath) as f:\n",
        "        r=f.read()\n",
        "        read_line = r.split('\\n')              \n",
        "        \n",
        "        for i in range(len(read_line)):         \n",
        "            read_element = read_line[i].split()\n",
        "            dic[int(read_element[0])] = [int(read_element[1])]\n",
        "            dic[int(read_element[0])].append(int(read_element[2]))\n",
        "        \n",
        "        f.close()\n",
        "    return dic\n",
        "\n",
        "def initial(num): ## generate init city sequence\n",
        "    seq = []\n",
        "    while len(seq) < num:\n",
        "        temp = random.randint(1,num)\n",
        "        if temp not in seq:\n",
        "            seq.append(temp)            \n",
        "    return seq\n",
        "\n",
        "def cost(seq,dic):    \n",
        "    dist = 0\n",
        "    for i in range(len(seq)):\n",
        "        axis = [ dic[seq[i]][0]-dic[seq[(i+1)%len(seq)]][0],dic[seq[i]][1]-dic[seq[(i+1)%len(seq)]][1]]\n",
        "        dist += math.sqrt(axis[0]*axis[0]+axis[1]*axis[1])  # distance(d)\n",
        "    return dist\n",
        "\n",
        "def swap(swap_num,c):\n",
        "    c = c.copy()\n",
        "    def selectIndexs(swap_num=swap_num,c=c):\n",
        "        c = c.copy()\n",
        "        swIndexs = []\n",
        "        while(len(swIndexs) != swap_num):\n",
        "            ranIndex = random.randint(0,len(c)-1)\n",
        "            if ranIndex not in swIndexs:\n",
        "                swIndexs.append(ranIndex)\n",
        "        return swIndexs\n",
        "    swIndexs1 = selectIndexs()\n",
        "    swIndexs2 = selectIndexs()\n",
        "    \n",
        "    for i in range(len(swIndexs1)):\n",
        "        tmp = c[swIndexs1[i]]\n",
        "        c[swIndexs1[i]] = c[swIndexs2[i]]\n",
        "        c[swIndexs2[i]] = tmp\n",
        "    return c.copy()"
      ]
    },
    {
      "cell_type": "code",
      "execution_count": 2,
      "metadata": {
        "id": "0MLeKpouwgVp"
      },
      "outputs": [],
      "source": [
        "import numpy as np\n",
        "import matplotlib\n",
        "import matplotlib.pyplot as plt\n",
        "import random\n",
        "\n",
        "def showPlot(PATH_SEQ,title):\n",
        "    # Read\n",
        "    DIC = ReadDic()\n",
        "    with open('./dataset.txt','r') as f:\n",
        "        dataset = f.read()\n",
        "    dataset = dataset.split(\"\\n\")\n",
        "\n",
        "    # x y\n",
        "    x=[]\n",
        "    y=[]\n",
        "    for i in dataset:\n",
        "        newi = i.split(\" \")\n",
        "        x.append(int(newi[1]))\n",
        "        y.append(int(newi[2]))\n",
        "\n",
        "    myX = []\n",
        "    myY = []\n",
        "    myPath = PATH_SEQ\n",
        "    for i in myPath:\n",
        "        _x,_y = DIC[i]\n",
        "        myX.append(_x)\n",
        "        myY.append(_y)\n",
        "    \n",
        "    # matplotlib.rcParams['axes.unicode_minus'] = False\n",
        "    fig, ax = plt.subplots(figsize=(10,7))\n",
        "    ax.plot(x, y,'o',color ='chartreuse')\n",
        "    ax.set_title(title,color='blue')\n",
        "    plt.plot(myX,myY,linestyle='--' ,color='maroon')\n",
        "    plt.show()"
      ]
    },
    {
      "cell_type": "markdown",
      "metadata": {
        "id": "EXwIzkMQwgVq"
      },
      "source": [
        "## Main"
      ]
    },
    {
      "cell_type": "code",
      "execution_count": 3,
      "metadata": {
        "id": "UC3TgYm_wgVr"
      },
      "outputs": [],
      "source": [
        "import random\n",
        "from collections import Counter\n",
        "import copy\n",
        "#initial   \n",
        "NUM_CITIES = 30\n",
        "DIC = ReadDic()\n",
        "endItt = 1500\n",
        "GENERATIONS = 1500\n",
        "INITIAL_POPULATION_NUM = 8\n",
        "CROSSOVER_LEN = 4\n",
        "MOUTATION_LEVEL = 0.25 \n",
        "CROSSOVER_PROBABILITY = 0.75\n",
        "NUM_PARENTS = int(INITIAL_POPULATION_NUM * CROSSOVER_PROBABILITY)\n",
        "valRec = []\n",
        "if __name__ == '__main__':\n",
        "    # generate initial population\n",
        "    chromo = [] \n",
        "    for i in range(INITIAL_POPULATION_NUM):#from (1-8) seq\n",
        "        chromo.append(initial(NUM_CITIES))        \n",
        "\n",
        "    for CURRENT_GENERATION in range(GENERATIONS):\n",
        "        parentsChromo = copy.deepcopy(chromo)\n",
        "        #fitterIndividuals = selctFitterIndividuals(chromo)\n",
        "        \n",
        "        #selctFitterIndividuals(chromo, 8)\n",
        "        #fitterIndividuals = selctFitterIndividuals(chromo, INITIAL_POPULATION_NUM)\n",
        "        chromo = selctFitterIndividuals(chromo, NUM_PARENTS)\n",
        "        \n",
        "        splitPointStart = random.randint(0,NUM_CITIES - CROSSOVER_LEN)#0-(30-4)number of crose over\n",
        "        splitPointEnd = splitPointStart + CROSSOVER_LEN\n",
        "        #print(\"Round:\"+str(NOW_ITER))\n",
        "        \n",
        "        # Re-order them randomly\n",
        "        random.shuffle(chromo)\n",
        "\n",
        "        # Mating (It depends on how many parents you want to mate them.. take care crossover probability)\n",
        "        for i in range(0,NUM_PARENTS,2):\n",
        "            # Take out the gene (two parents)\n",
        "            c1 = chromo[i].copy()\n",
        "            c2 = chromo[i+1].copy()\n",
        "            parent1 = copy.deepcopy(chromo[i]) # It is a feasible solution\n",
        "            parent2 = copy.deepcopy(chromo[i+1])\n",
        "            \n",
        "            #combine between two parent\n",
        "            # Get slice\n",
        "            c1Split = c1[splitPointStart:splitPointEnd]#10+14\n",
        "            c2Split = c2[splitPointStart:splitPointEnd]#10+14\n",
        "            # Exchange slice\n",
        "            c1[splitPointStart:splitPointEnd] = c2Split.copy()\n",
        "            c2[splitPointStart:splitPointEnd] = c1Split.copy()            \n",
        "            \n",
        "            if isFeasible (c1, NUM_CITIES) is False: #Check if not feasible\n",
        "                c1r = findRepeatedValues(c1,NUM_CITIES)                   \n",
        "                c1rb = findIndexOfRepeatedValues(c1r,c1)\n",
        "                misv1 = findMissingValues(parent1, c1)\n",
        "                c1 = repair(c1, c1rb, misv1)\n",
        "             \n",
        "            if isFeasible (c2, NUM_CITIES) is False: \n",
        "                c2r = findRepeatedValues(c2,NUM_CITIES)                   \n",
        "                c2rb = findIndexOfRepeatedValues(c2r,c2)\n",
        "                misv2 = findMissingValues(parent2, c2) # find missing values between a visible and an invisible solution\n",
        "                c2 = repair(c2, c2rb, misv2)                \n",
        "\n",
        "            chromo[i] = c1.copy()\n",
        "            chromo[i+1] = c2.copy()        \n",
        "\n",
        "        # mutate the offspring\n",
        "        for i,c in enumerate(chromo):            \n",
        "            newC = mutation(c,MOUTATION_LEVEL) #MOUTATION_LEVE = 0.25 \n",
        "            chromo[i] = newC\n",
        "        \n",
        "        childChromo = copy.deepcopy(chromo)\n",
        "        \n",
        "        chromo = []\n",
        "        chromo = parentsChromo+childChromo        \n",
        "        \n",
        "        # To sort results (parents with children) ascending 1,2,3,4, by their fitness ..etc\n",
        "        chromoObjs = []\n",
        "        for c in chromo:\n",
        "            chromoObjs.append((c,cost(c,DIC)))\n",
        "            \n",
        "        chromoObjs.sort(key = lambda x:x[1],reverse=False)        \n",
        "        \n",
        "        # Choose the next generation\n",
        "        chromo = []\n",
        "        for i,c in enumerate(chromoObjs):            \n",
        "            chromo.append(c[0])        \n",
        "        chromo = chromo[0:INITIAL_POPULATION_NUM]\n",
        "        #rr = random.randint(0, INITIAL_POPULATION_NUM - 1)\n",
        "        valRec.append(cost(chromo[0],DIC))"
      ]
    },
    {
      "cell_type": "markdown",
      "metadata": {
        "id": "_HGnWQY0wgVs"
      },
      "source": [
        "## Plot and RES"
      ]
    },
    {
      "cell_type": "code",
      "execution_count": 3,
      "metadata": {
        "scrolled": true,
        "id": "rDPw2N0PwgVt"
      },
      "outputs": [],
      "source": [
        ""
      ]
    },
    {
      "cell_type": "code",
      "execution_count": 4,
      "metadata": {
        "id": "l9g2HxMswgVu",
        "colab": {
          "base_uri": "https://localhost:8080/",
          "height": 479
        },
        "outputId": "1b973952-ce2e-4203-a432-96fd9baa90b5"
      },
      "outputs": [
        {
          "output_type": "stream",
          "name": "stdout",
          "text": [
            "EndPath : [23, 7, 26, 8, 2, 16, 9, 30, 10, 15, 5, 21, 11, 12, 4, 18, 14, 6, 27, 1, 22, 28, 3, 20, 29, 17, 19, 13, 25, 24]\n",
            "EndVal = 380.99243853448394\n"
          ]
        },
        {
          "output_type": "display_data",
          "data": {
            "image/png": "[encoded data removed]",
            "text/plain": [
              "<Figure size 720x504 with 1 Axes>"
            ]
          },
          "metadata": {
            "needs_background": "light"
          }
        }
      ],
      "source": [
        "print(\"EndPath :\",chromo[0])\n",
        "endval=cost(chromo[0],DIC)\n",
        "print(\"EndVal =\",endval)\n",
        "showPlot(chromo[0],'Travel Path')"
      ]
    },
    {
      "cell_type": "code",
      "execution_count": 5,
      "metadata": {
        "id": "t6dA_SOnwgVv",
        "colab": {
          "base_uri": "https://localhost:8080/",
          "height": 458
        },
        "outputId": "d8ad4583-0296-4f91-e0cd-5b3dc857bec6"
      },
      "outputs": [
        {
          "output_type": "display_data",
          "data": {
            "image/png": "[encoded data removed]",
            "text/plain": [
              "<Figure size 1080x504 with 1 Axes>"
            ]
          },
          "metadata": {
            "needs_background": "light"
          }
        }
      ],
      "source": [
        "plt.figure(figsize=(15,7))\n",
        "plt.plot(valRec,color='b')\n",
        "plt.title('GENETIC ALGORITHM (GA)',color='blue')\n",
        "plt.xlabel('Iterations',color ='green')\n",
        "plt.ylabel('Quality of Solution',color ='green')\n",
        "plt.annotate('Quality of Best Sol. Found = (%.2d)'%( endval), xy=(endItt, endval+50),color=\"red\",xycoords='data',\n",
        "             xytext=(-30, 190), textcoords='offset points',\n",
        "             size=13, ha='right', va=\"center\",\n",
        "             bbox=dict(boxstyle=\"round\", alpha=0.1),\n",
        "             arrowprops=dict(arrowstyle=\"wedge,tail_width=0.5\", alpha=0.1))\n",
        "plt.show()"
      ]
    },
    {
      "cell_type": "code",
      "execution_count": 5,
      "metadata": {
        "id": "GRFr8gBNwgVw"
      },
      "outputs": [],
      "source": [
        "\n",
        "\n",
        "\n",
        "\n",
        "\n",
        "\n",
        "\n",
        "\n",
        "\n",
        "\n",
        "\n",
        "\n",
        "\n",
        "\n",
        "\n",
        "\n",
        "\n",
        "\n",
        "\n",
        "\n",
        "\n",
        "\n",
        "\n",
        "\n",
        "\n",
        "\n",
        "\n"
      ]
    }
  ],
  "metadata": {
    "kernelspec": {
      "display_name": "Python 3",
      "language": "python",
      "name": "python3"
    },
    "language_info": {
      "codemirror_mode": {
        "name": "ipython",
        "version": 3
      },
      "file_extension": ".py",
      "mimetype": "text/x-python",
      "name": "python",
      "nbconvert_exporter": "python",
      "pygments_lexer": "ipython3",
      "version": "3.7.4"
    },
    "colab": {
      "name": "TSP moh-GA.ipynb",
      "provenance": [],
      "include_colab_link": true
    }
  },
  "nbformat": 4,
  "nbformat_minor": 0
}